{
 "cells": [
  {
   "cell_type": "markdown",
   "metadata": {},
   "source": [
    "# Data Download\n",
    "\n",
    "The purpose of this notebook is to download data from The National Map, using the TNM Rest API. API Documentation [available here](https://tnmaccess.nationalmap.gov/api/v1/docs). A more comphensive dataset documentation is [available here](../../docs/Dataset.md).\n",
    "\n",
    "Data downloaded:\n",
    "- **Watershed Boundary (WBD)**\n",
    "\n"
   ]
  },
  {
   "cell_type": "code",
   "execution_count": 1,
   "metadata": {},
   "outputs": [],
   "source": [
    "# Import necessary modules\n",
    "import requests\n",
    "import pandas as pd\n",
    "from pathlib import Path\n",
    "import json\n",
    "import sys\n",
    "import os"
   ]
  },
  {
   "cell_type": "code",
   "execution_count": 2,
   "metadata": {},
   "outputs": [],
   "source": [
    "# Base path\n",
    "project_base_path = Path.cwd().parent.parent"
   ]
  },
  {
   "cell_type": "code",
   "execution_count": 3,
   "metadata": {},
   "outputs": [],
   "source": [
    "# Add src to system path \n",
    "sys.path.append(str(project_base_path / 'src'))\n",
    "\n",
    "# import modules\n",
    "from dataDownload.download import download"
   ]
  },
  {
   "cell_type": "markdown",
   "metadata": {},
   "source": [
    "## Watershed Boundary Dataset (WBD)\n",
    "\n",
    "Let's start by fetching all available Watershed Boundary Dataset and look for the one with resolution that fits the objective of this study."
   ]
  },
  {
   "cell_type": "code",
   "execution_count": 4,
   "metadata": {},
   "outputs": [
    {
     "name": "stdout",
     "output_type": "stream",
     "text": [
      "Available Watershed Boundary Datasets:\n",
      "- Name: USGS Watershed Boundary Dataset (WBD) - National (published 20250107) FileGDB\n",
      "  Extent: National\n",
      "  Description: The Watershed Boundary Dataset (WBD) is a comprehensive aggregated collection of hydrologic unit data consistent with the national criteria for delineation and resolution. It defines the areal extent of surface water drainage to a point except in coastal or lake front areas where there could be multiple outlets as stated by the \"Federal Standards and Procedures for the National Watershed Boundary Dataset (WBD)\" \"Standard\" (https://pubs.usgs.gov/tm/11/a3/). Watershed boundaries are determined solely upon science-based hydrologic principles, not favoring any administrative boundaries or special projects, nor particular program or agency. This dataset represents the hydrologic unit boundaries to the 12-digit (6th level) for the entire United States. Some areas may also include additional subdivisions representing the 14- and 16-digit hydrologic unit (HU). At a minimum, the HUs are delineated at 1:24,000-scale in the conterminous United States, 1:25,000-scale in Hawaii, Pacific basin and the Caribbean, and 1:63,360-scale in Alaska, meeting the National Map Accuracy Standards (NMAS). Higher resolution boundaries are being developed where partners and data exist and will be incorporated back into the WBD. WBD data are delivered as a dataset of polygons and corresponding lines that define the boundary of the polygon. WBD polygon attributes include hydrologic unit codes (HUC), size (in the form of acres and square kilometers), name, downstream hydrologic unit code, type of watershed, non-contributing areas, and flow modifications. The HUC describes where the unit is in the country and the level of the unit. WBD line attributes contain the highest level of hydrologic unit for each boundary, line source information and flow modifications.\n",
      "  Metadata URL: https://www.sciencebase.gov/catalog/item/61fd7d49d34e622189cf3aab\n",
      "\n",
      "- Name: USGS Watershed Boundary Dataset (WBD) - National (published 20250107) GeoPackage\n",
      "  Extent: National\n",
      "  Description: The Watershed Boundary Dataset (WBD) is a comprehensive aggregated collection of hydrologic unit data consistent with the national criteria for delineation and resolution. It defines the areal extent of surface water drainage to a point except in coastal or lake front areas where there could be multiple outlets as stated by the \"Federal Standards and Procedures for the National Watershed Boundary Dataset (WBD)\" \"Standard\" (https://pubs.usgs.gov/tm/11/a3/). Watershed boundaries are determined solely upon science-based hydrologic principles, not favoring any administrative boundaries or special projects, nor particular program or agency. This dataset represents the hydrologic unit boundaries to the 12-digit (6th level) for the entire United States. Some areas may also include additional subdivisions representing the 14- and 16-digit hydrologic unit (HU). At a minimum, the HUs are delineated at 1:24,000-scale in the conterminous United States, 1:25,000-scale in Hawaii, Pacific basin and the Caribbean, and 1:63,360-scale in Alaska, meeting the National Map Accuracy Standards (NMAS). Higher resolution boundaries are being developed where partners and data exist and will be incorporated back into the WBD. WBD data are delivered as a dataset of polygons and corresponding lines that define the boundary of the polygon. WBD polygon attributes include hydrologic unit codes (HUC), size (in the form of acres and square kilometers), name, downstream hydrologic unit code, type of watershed, non-contributing areas, and flow modifications. The HUC describes where the unit is in the country and the level of the unit. WBD line attributes contain the highest level of hydrologic unit for each boundary, line source information and flow modifications.\n",
      "  Metadata URL: https://www.sciencebase.gov/catalog/item/6407a507d34e76f5f75e39ec\n",
      "\n",
      "- Name: USGS Watershed Boundary Dataset (WBD) for 2-digit Hydrologic Unit - 01 (published 20250108) FileGDB\n",
      "  Extent: HU-2 Region\n",
      "  Description: The Watershed Boundary Dataset (WBD) is a comprehensive aggregated collection of hydrologic unit data consistent with the national criteria for delineation and resolution. It defines the areal extent of surface water drainage to a point except in coastal or lake front areas where there could be multiple outlets as stated by the \"Federal Standards and Procedures for the National Watershed Boundary Dataset (WBD)\" \"Standard\" (https://pubs.usgs.gov/tm/11/a3/). Watershed boundaries are determined solely upon science-based hydrologic principles, not favoring any administrative boundaries or special projects, nor particular program or agency. This dataset represents the hydrologic unit boundaries to the 12-digit (6th level) for the entire United States. Some areas may also include additional subdivisions representing the 14- and 16-digit hydrologic unit (HU). At a minimum, the HUs are delineated at 1:24,000-scale in the conterminous United States, 1:25,000-scale in Hawaii, Pacific basin and the Caribbean, and 1:63,360-scale in Alaska, meeting the National Map Accuracy Standards (NMAS). Higher resolution boundaries are being developed where partners and data exist and will be incorporated back into the WBD. WBD data are delivered as a dataset of polygons and corresponding lines that define the boundary of the polygon. WBD polygon attributes include hydrologic unit codes (HUC), size (in the form of acres and square kilometers), name, downstream hydrologic unit code, type of watershed, non-contributing areas, and flow modifications. The HUC describes where the unit is in the country and the level of the unit. WBD line attributes contain the highest level of hydrologic unit for each boundary, line source information and flow modifications.\n",
      "  Metadata URL: https://www.sciencebase.gov/catalog/item/5a03bdb3e4b0dc0b45b31a81\n",
      "\n",
      "- Name: USGS Watershed Boundary Dataset (WBD) for 2-digit Hydrologic Unit - 01 (published 20250108) GeoPackage\n",
      "  Extent: HU-2 Region\n",
      "  Description: The Watershed Boundary Dataset (WBD) is a comprehensive aggregated collection of hydrologic unit data consistent with the national criteria for delineation and resolution. It defines the areal extent of surface water drainage to a point except in coastal or lake front areas where there could be multiple outlets as stated by the \"Federal Standards and Procedures for the National Watershed Boundary Dataset (WBD)\" \"Standard\" (https://pubs.usgs.gov/tm/11/a3/). Watershed boundaries are determined solely upon science-based hydrologic principles, not favoring any administrative boundaries or special projects, nor particular program or agency. This dataset represents the hydrologic unit boundaries to the 12-digit (6th level) for the entire United States. Some areas may also include additional subdivisions representing the 14- and 16-digit hydrologic unit (HU). At a minimum, the HUs are delineated at 1:24,000-scale in the conterminous United States, 1:25,000-scale in Hawaii, Pacific basin and the Caribbean, and 1:63,360-scale in Alaska, meeting the National Map Accuracy Standards (NMAS). Higher resolution boundaries are being developed where partners and data exist and will be incorporated back into the WBD. WBD data are delivered as a dataset of polygons and corresponding lines that define the boundary of the polygon. WBD polygon attributes include hydrologic unit codes (HUC), size (in the form of acres and square kilometers), name, downstream hydrologic unit code, type of watershed, non-contributing areas, and flow modifications. The HUC describes where the unit is in the country and the level of the unit. WBD line attributes contain the highest level of hydrologic unit for each boundary, line source information and flow modifications.\n",
      "  Metadata URL: https://www.sciencebase.gov/catalog/item/63dd3ce5d34e9fa19a9ad053\n",
      "\n",
      "- Name: USGS Watershed Boundary Dataset (WBD) for 2-digit Hydrologic Unit - 01 (published 20250108) Shapefile\n",
      "  Extent: HU-2 Region\n",
      "  Description: The Watershed Boundary Dataset (WBD) is a comprehensive aggregated collection of hydrologic unit data consistent with the national criteria for delineation and resolution. It defines the areal extent of surface water drainage to a point except in coastal or lake front areas where there could be multiple outlets as stated by the \"Federal Standards and Procedures for the National Watershed Boundary Dataset (WBD)\" \"Standard\" (https://pubs.usgs.gov/tm/11/a3/). Watershed boundaries are determined solely upon science-based hydrologic principles, not favoring any administrative boundaries or special projects, nor particular program or agency. This dataset represents the hydrologic unit boundaries to the 12-digit (6th level) for the entire United States. Some areas may also include additional subdivisions representing the 14- and 16-digit hydrologic unit (HU). At a minimum, the HUs are delineated at 1:24,000-scale in the conterminous United States, 1:25,000-scale in Hawaii, Pacific basin and the Caribbean, and 1:63,360-scale in Alaska, meeting the National Map Accuracy Standards (NMAS). Higher resolution boundaries are being developed where partners and data exist and will be incorporated back into the WBD. WBD data are delivered as a dataset of polygons and corresponding lines that define the boundary of the polygon. WBD polygon attributes include hydrologic unit codes (HUC), size (in the form of acres and square kilometers), name, downstream hydrologic unit code, type of watershed, non-contributing areas, and flow modifications. The HUC describes where the unit is in the country and the level of the unit. WBD line attributes contain the highest level of hydrologic unit for each boundary, line source information and flow modifications.\n",
      "  Metadata URL: https://www.sciencebase.gov/catalog/item/59d58b22e4b05fe04cc53863\n",
      "\n",
      "- Name: USGS Watershed Boundary Dataset (WBD) for 2-digit Hydrologic Unit - 02 (published 20250108) FileGDB\n",
      "  Extent: HU-2 Region\n",
      "  Description: The Watershed Boundary Dataset (WBD) is a comprehensive aggregated collection of hydrologic unit data consistent with the national criteria for delineation and resolution. It defines the areal extent of surface water drainage to a point except in coastal or lake front areas where there could be multiple outlets as stated by the \"Federal Standards and Procedures for the National Watershed Boundary Dataset (WBD)\" \"Standard\" (https://pubs.usgs.gov/tm/11/a3/). Watershed boundaries are determined solely upon science-based hydrologic principles, not favoring any administrative boundaries or special projects, nor particular program or agency. This dataset represents the hydrologic unit boundaries to the 12-digit (6th level) for the entire United States. Some areas may also include additional subdivisions representing the 14- and 16-digit hydrologic unit (HU). At a minimum, the HUs are delineated at 1:24,000-scale in the conterminous United States, 1:25,000-scale in Hawaii, Pacific basin and the Caribbean, and 1:63,360-scale in Alaska, meeting the National Map Accuracy Standards (NMAS). Higher resolution boundaries are being developed where partners and data exist and will be incorporated back into the WBD. WBD data are delivered as a dataset of polygons and corresponding lines that define the boundary of the polygon. WBD polygon attributes include hydrologic unit codes (HUC), size (in the form of acres and square kilometers), name, downstream hydrologic unit code, type of watershed, non-contributing areas, and flow modifications. The HUC describes where the unit is in the country and the level of the unit. WBD line attributes contain the highest level of hydrologic unit for each boundary, line source information and flow modifications.\n",
      "  Metadata URL: https://www.sciencebase.gov/catalog/item/5a1632b2e4b09fc93dd171d9\n",
      "\n",
      "- Name: USGS Watershed Boundary Dataset (WBD) for 2-digit Hydrologic Unit - 02 (published 20250108) GeoPackage\n",
      "  Extent: HU-2 Region\n",
      "  Description: The Watershed Boundary Dataset (WBD) is a comprehensive aggregated collection of hydrologic unit data consistent with the national criteria for delineation and resolution. It defines the areal extent of surface water drainage to a point except in coastal or lake front areas where there could be multiple outlets as stated by the \"Federal Standards and Procedures for the National Watershed Boundary Dataset (WBD)\" \"Standard\" (https://pubs.usgs.gov/tm/11/a3/). Watershed boundaries are determined solely upon science-based hydrologic principles, not favoring any administrative boundaries or special projects, nor particular program or agency. This dataset represents the hydrologic unit boundaries to the 12-digit (6th level) for the entire United States. Some areas may also include additional subdivisions representing the 14- and 16-digit hydrologic unit (HU). At a minimum, the HUs are delineated at 1:24,000-scale in the conterminous United States, 1:25,000-scale in Hawaii, Pacific basin and the Caribbean, and 1:63,360-scale in Alaska, meeting the National Map Accuracy Standards (NMAS). Higher resolution boundaries are being developed where partners and data exist and will be incorporated back into the WBD. WBD data are delivered as a dataset of polygons and corresponding lines that define the boundary of the polygon. WBD polygon attributes include hydrologic unit codes (HUC), size (in the form of acres and square kilometers), name, downstream hydrologic unit code, type of watershed, non-contributing areas, and flow modifications. The HUC describes where the unit is in the country and the level of the unit. WBD line attributes contain the highest level of hydrologic unit for each boundary, line source information and flow modifications.\n",
      "  Metadata URL: https://www.sciencebase.gov/catalog/item/63dd3cf6d34e9fa19a9ad05b\n",
      "\n",
      "- Name: USGS Watershed Boundary Dataset (WBD) for 2-digit Hydrologic Unit - 02 (published 20250108) Shapefile\n",
      "  Extent: HU-2 Region\n",
      "  Description: The Watershed Boundary Dataset (WBD) is a comprehensive aggregated collection of hydrologic unit data consistent with the national criteria for delineation and resolution. It defines the areal extent of surface water drainage to a point except in coastal or lake front areas where there could be multiple outlets as stated by the \"Federal Standards and Procedures for the National Watershed Boundary Dataset (WBD)\" \"Standard\" (https://pubs.usgs.gov/tm/11/a3/). Watershed boundaries are determined solely upon science-based hydrologic principles, not favoring any administrative boundaries or special projects, nor particular program or agency. This dataset represents the hydrologic unit boundaries to the 12-digit (6th level) for the entire United States. Some areas may also include additional subdivisions representing the 14- and 16-digit hydrologic unit (HU). At a minimum, the HUs are delineated at 1:24,000-scale in the conterminous United States, 1:25,000-scale in Hawaii, Pacific basin and the Caribbean, and 1:63,360-scale in Alaska, meeting the National Map Accuracy Standards (NMAS). Higher resolution boundaries are being developed where partners and data exist and will be incorporated back into the WBD. WBD data are delivered as a dataset of polygons and corresponding lines that define the boundary of the polygon. WBD polygon attributes include hydrologic unit codes (HUC), size (in the form of acres and square kilometers), name, downstream hydrologic unit code, type of watershed, non-contributing areas, and flow modifications. The HUC describes where the unit is in the country and the level of the unit. WBD line attributes contain the highest level of hydrologic unit for each boundary, line source information and flow modifications.\n",
      "  Metadata URL: https://www.sciencebase.gov/catalog/item/5a1632b3e4b09fc93dd171de\n",
      "\n",
      "- Name: USGS Watershed Boundary Dataset (WBD) for 2-digit Hydrologic Unit - 04 (published 20250108) FileGDB\n",
      "  Extent: HU-2 Region\n",
      "  Description: The Watershed Boundary Dataset (WBD) is a comprehensive aggregated collection of hydrologic unit data consistent with the national criteria for delineation and resolution. It defines the areal extent of surface water drainage to a point except in coastal or lake front areas where there could be multiple outlets as stated by the \"Federal Standards and Procedures for the National Watershed Boundary Dataset (WBD)\" \"Standard\" (https://pubs.usgs.gov/tm/11/a3/). Watershed boundaries are determined solely upon science-based hydrologic principles, not favoring any administrative boundaries or special projects, nor particular program or agency. This dataset represents the hydrologic unit boundaries to the 12-digit (6th level) for the entire United States. Some areas may also include additional subdivisions representing the 14- and 16-digit hydrologic unit (HU). At a minimum, the HUs are delineated at 1:24,000-scale in the conterminous United States, 1:25,000-scale in Hawaii, Pacific basin and the Caribbean, and 1:63,360-scale in Alaska, meeting the National Map Accuracy Standards (NMAS). Higher resolution boundaries are being developed where partners and data exist and will be incorporated back into the WBD. WBD data are delivered as a dataset of polygons and corresponding lines that define the boundary of the polygon. WBD polygon attributes include hydrologic unit codes (HUC), size (in the form of acres and square kilometers), name, downstream hydrologic unit code, type of watershed, non-contributing areas, and flow modifications. The HUC describes where the unit is in the country and the level of the unit. WBD line attributes contain the highest level of hydrologic unit for each boundary, line source information and flow modifications.\n",
      "  Metadata URL: https://www.sciencebase.gov/catalog/item/5a1632b3e4b09fc93dd171dd\n",
      "\n",
      "- Name: USGS Watershed Boundary Dataset (WBD) for 2-digit Hydrologic Unit - 04 (published 20250108) GeoPackage\n",
      "  Extent: HU-2 Region\n",
      "  Description: The Watershed Boundary Dataset (WBD) is a comprehensive aggregated collection of hydrologic unit data consistent with the national criteria for delineation and resolution. It defines the areal extent of surface water drainage to a point except in coastal or lake front areas where there could be multiple outlets as stated by the \"Federal Standards and Procedures for the National Watershed Boundary Dataset (WBD)\" \"Standard\" (https://pubs.usgs.gov/tm/11/a3/). Watershed boundaries are determined solely upon science-based hydrologic principles, not favoring any administrative boundaries or special projects, nor particular program or agency. This dataset represents the hydrologic unit boundaries to the 12-digit (6th level) for the entire United States. Some areas may also include additional subdivisions representing the 14- and 16-digit hydrologic unit (HU). At a minimum, the HUs are delineated at 1:24,000-scale in the conterminous United States, 1:25,000-scale in Hawaii, Pacific basin and the Caribbean, and 1:63,360-scale in Alaska, meeting the National Map Accuracy Standards (NMAS). Higher resolution boundaries are being developed where partners and data exist and will be incorporated back into the WBD. WBD data are delivered as a dataset of polygons and corresponding lines that define the boundary of the polygon. WBD polygon attributes include hydrologic unit codes (HUC), size (in the form of acres and square kilometers), name, downstream hydrologic unit code, type of watershed, non-contributing areas, and flow modifications. The HUC describes where the unit is in the country and the level of the unit. WBD line attributes contain the highest level of hydrologic unit for each boundary, line source information and flow modifications.\n",
      "  Metadata URL: https://www.sciencebase.gov/catalog/item/63dd3d24d34e9fa19a9ad080\n",
      "\n",
      "- Name: USGS Watershed Boundary Dataset (WBD) for 2-digit Hydrologic Unit - 04 (published 20250108) Shapefile\n",
      "  Extent: HU-2 Region\n",
      "  Description: The Watershed Boundary Dataset (WBD) is a comprehensive aggregated collection of hydrologic unit data consistent with the national criteria for delineation and resolution. It defines the areal extent of surface water drainage to a point except in coastal or lake front areas where there could be multiple outlets as stated by the \"Federal Standards and Procedures for the National Watershed Boundary Dataset (WBD)\" \"Standard\" (https://pubs.usgs.gov/tm/11/a3/). Watershed boundaries are determined solely upon science-based hydrologic principles, not favoring any administrative boundaries or special projects, nor particular program or agency. This dataset represents the hydrologic unit boundaries to the 12-digit (6th level) for the entire United States. Some areas may also include additional subdivisions representing the 14- and 16-digit hydrologic unit (HU). At a minimum, the HUs are delineated at 1:24,000-scale in the conterminous United States, 1:25,000-scale in Hawaii, Pacific basin and the Caribbean, and 1:63,360-scale in Alaska, meeting the National Map Accuracy Standards (NMAS). Higher resolution boundaries are being developed where partners and data exist and will be incorporated back into the WBD. WBD data are delivered as a dataset of polygons and corresponding lines that define the boundary of the polygon. WBD polygon attributes include hydrologic unit codes (HUC), size (in the form of acres and square kilometers), name, downstream hydrologic unit code, type of watershed, non-contributing areas, and flow modifications. The HUC describes where the unit is in the country and the level of the unit. WBD line attributes contain the highest level of hydrologic unit for each boundary, line source information and flow modifications.\n",
      "  Metadata URL: https://www.sciencebase.gov/catalog/item/5a1632b3e4b09fc93dd171e6\n",
      "\n",
      "- Name: USGS Watershed Boundary Dataset (WBD) for 2-digit Hydrologic Unit - 05 (published 20250108) FileGDB\n",
      "  Extent: HU-2 Region\n",
      "  Description: The Watershed Boundary Dataset (WBD) is a comprehensive aggregated collection of hydrologic unit data consistent with the national criteria for delineation and resolution. It defines the areal extent of surface water drainage to a point except in coastal or lake front areas where there could be multiple outlets as stated by the \"Federal Standards and Procedures for the National Watershed Boundary Dataset (WBD)\" \"Standard\" (https://pubs.usgs.gov/tm/11/a3/). Watershed boundaries are determined solely upon science-based hydrologic principles, not favoring any administrative boundaries or special projects, nor particular program or agency. This dataset represents the hydrologic unit boundaries to the 12-digit (6th level) for the entire United States. Some areas may also include additional subdivisions representing the 14- and 16-digit hydrologic unit (HU). At a minimum, the HUs are delineated at 1:24,000-scale in the conterminous United States, 1:25,000-scale in Hawaii, Pacific basin and the Caribbean, and 1:63,360-scale in Alaska, meeting the National Map Accuracy Standards (NMAS). Higher resolution boundaries are being developed where partners and data exist and will be incorporated back into the WBD. WBD data are delivered as a dataset of polygons and corresponding lines that define the boundary of the polygon. WBD polygon attributes include hydrologic unit codes (HUC), size (in the form of acres and square kilometers), name, downstream hydrologic unit code, type of watershed, non-contributing areas, and flow modifications. The HUC describes where the unit is in the country and the level of the unit. WBD line attributes contain the highest level of hydrologic unit for each boundary, line source information and flow modifications.\n",
      "  Metadata URL: https://www.sciencebase.gov/catalog/item/5a1632b3e4b09fc93dd171e0\n",
      "\n",
      "- Name: USGS Watershed Boundary Dataset (WBD) for 2-digit Hydrologic Unit - 05 (published 20250108) GeoPackage\n",
      "  Extent: HU-2 Region\n",
      "  Description: The Watershed Boundary Dataset (WBD) is a comprehensive aggregated collection of hydrologic unit data consistent with the national criteria for delineation and resolution. It defines the areal extent of surface water drainage to a point except in coastal or lake front areas where there could be multiple outlets as stated by the \"Federal Standards and Procedures for the National Watershed Boundary Dataset (WBD)\" \"Standard\" (https://pubs.usgs.gov/tm/11/a3/). Watershed boundaries are determined solely upon science-based hydrologic principles, not favoring any administrative boundaries or special projects, nor particular program or agency. This dataset represents the hydrologic unit boundaries to the 12-digit (6th level) for the entire United States. Some areas may also include additional subdivisions representing the 14- and 16-digit hydrologic unit (HU). At a minimum, the HUs are delineated at 1:24,000-scale in the conterminous United States, 1:25,000-scale in Hawaii, Pacific basin and the Caribbean, and 1:63,360-scale in Alaska, meeting the National Map Accuracy Standards (NMAS). Higher resolution boundaries are being developed where partners and data exist and will be incorporated back into the WBD. WBD data are delivered as a dataset of polygons and corresponding lines that define the boundary of the polygon. WBD polygon attributes include hydrologic unit codes (HUC), size (in the form of acres and square kilometers), name, downstream hydrologic unit code, type of watershed, non-contributing areas, and flow modifications. The HUC describes where the unit is in the country and the level of the unit. WBD line attributes contain the highest level of hydrologic unit for each boundary, line source information and flow modifications.\n",
      "  Metadata URL: https://www.sciencebase.gov/catalog/item/63dd3cf8d34e9fa19a9ad05d\n",
      "\n",
      "- Name: USGS Watershed Boundary Dataset (WBD) for 2-digit Hydrologic Unit - 05 (published 20250108) Shapefile\n",
      "  Extent: HU-2 Region\n",
      "  Description: The Watershed Boundary Dataset (WBD) is a comprehensive aggregated collection of hydrologic unit data consistent with the national criteria for delineation and resolution. It defines the areal extent of surface water drainage to a point except in coastal or lake front areas where there could be multiple outlets as stated by the \"Federal Standards and Procedures for the National Watershed Boundary Dataset (WBD)\" \"Standard\" (https://pubs.usgs.gov/tm/11/a3/). Watershed boundaries are determined solely upon science-based hydrologic principles, not favoring any administrative boundaries or special projects, nor particular program or agency. This dataset represents the hydrologic unit boundaries to the 12-digit (6th level) for the entire United States. Some areas may also include additional subdivisions representing the 14- and 16-digit hydrologic unit (HU). At a minimum, the HUs are delineated at 1:24,000-scale in the conterminous United States, 1:25,000-scale in Hawaii, Pacific basin and the Caribbean, and 1:63,360-scale in Alaska, meeting the National Map Accuracy Standards (NMAS). Higher resolution boundaries are being developed where partners and data exist and will be incorporated back into the WBD. WBD data are delivered as a dataset of polygons and corresponding lines that define the boundary of the polygon. WBD polygon attributes include hydrologic unit codes (HUC), size (in the form of acres and square kilometers), name, downstream hydrologic unit code, type of watershed, non-contributing areas, and flow modifications. The HUC describes where the unit is in the country and the level of the unit. WBD line attributes contain the highest level of hydrologic unit for each boundary, line source information and flow modifications.\n",
      "  Metadata URL: https://www.sciencebase.gov/catalog/item/5a1632b4e4b09fc93dd171ea\n",
      "\n"
     ]
    }
   ],
   "source": [
    "# Load the bbox of the neighboring New York state\n",
    "neighboring_ny_state_bbox_path =  project_base_path / 'data' / 'other' / 'ny_neighboring_bbox.json'\n",
    "with open(neighboring_ny_state_bbox_path, 'r') as f:\n",
    "    neighboring_ny_state_bbox_dict = json.load(f)\n",
    "\n",
    "corners = ['bottom_left', 'bottom_right', 'top_right', 'top_left']\n",
    "pairs = [f\"{neighboring_ny_state_bbox_dict[corner][0]} {neighboring_ny_state_bbox_dict[corner][1]}\" for corner in corners]\n",
    "bbox = \",\".join(pairs)\n",
    "\n",
    "# Define the base URL for the TNM API\n",
    "base_url = \"https://tnmaccess.nationalmap.gov/api/v1/\"\n",
    "\n",
    "# Define parameters for the API request to query available datasets\n",
    "params = {\n",
    "    \"polygon\": bbox, # Sepcify the area to seach for\n",
    "    \"datasets\": \"National Watershed Boundary Dataset (WBD)\",  # Specify Watershed Boundary Dataset\n",
    "    \"outputFormat\": \"JSON\"  # Specify JSON output\n",
    "}\n",
    "\n",
    "# Send a GET request to the API\n",
    "response = requests.get(base_url + \"products\", params=params)\n",
    "\n",
    "# Check if the request was successful\n",
    "if response.status_code == 200:\n",
    "    # Parse the JSON response\n",
    "    response_json = response.json()\n",
    "    \n",
    "    # Display the dataset information\n",
    "    print(\"Available Watershed Boundary Datasets:\")\n",
    "    for dataset in response_json.get(\"items\"):\n",
    "        print(f\"- Name: {dataset['title']}\")\n",
    "        print(f\"  Extent: {dataset['extent']}\")\n",
    "        print(f\"  Description: {dataset['body']}\")\n",
    "        print(f\"  Metadata URL: {dataset['metaUrl']}\\n\")\n",
    "else:\n",
    "    print(f\"Failed to retrieve data. HTTP Status Code: {response.status_code}\")"
   ]
  },
  {
   "cell_type": "markdown",
   "metadata": {},
   "source": [
    "We are interested at the the HU-2 digits extent in the shapefile format. "
   ]
  },
  {
   "cell_type": "code",
   "execution_count": 5,
   "metadata": {},
   "outputs": [
    {
     "name": "stdout",
     "output_type": "stream",
     "text": [
      "4 files were found.\n",
      "Watershed Boundary Dataset exported sucessfully to c:\\Users\\esanttos\\Documents\\Alan temp\\Unit-hydrograph-Model\\data\\other\\watershed_boundary_dataset.json.\n"
     ]
    }
   ],
   "source": [
    "# Filter files within the extent HU-2 digit in shapefile format\n",
    "filtered_response = [\n",
    "    record for record in response_json.get('items')\n",
    "    if record.get('format') == 'Shapefile' and record.get('extent') == 'HU-2 Region'\n",
    "]\n",
    "print(f'{len(filtered_response)} files were found.')\n",
    "\n",
    "# Save to a file the filtered response\n",
    "try:\n",
    "    export_path = project_base_path / 'data' / 'other' / 'watershed_boundary_dataset.json'\n",
    "    with open(export_path, 'w') as f:\n",
    "        json.dump(filtered_response, f, indent=4)\n",
    "    print(f'Watershed Boundary Dataset exported sucessfully to {export_path}.')\n",
    "except Exception as err:\n",
    "    print(f'Could not save the file. An err was ecountered: {err}')\n",
    "    "
   ]
  },
  {
   "cell_type": "markdown",
   "metadata": {},
   "source": [
    "**Download**"
   ]
  },
  {
   "cell_type": "code",
   "execution_count": null,
   "metadata": {},
   "outputs": [
    {
     "name": "stdout",
     "output_type": "stream",
     "text": [
      "Downloaded: c:\\Users\\esanttos\\Documents\\Alan temp\\Unit-hydrograph-Model\\data\\shapefiles\\WBD_01_HU2_Shape.zip\n",
      "Extracted files to: c:\\Users\\esanttos\\Documents\\Alan temp\\Unit-hydrograph-Model\\data\\shapefiles\\WBD_01_HU2_Shape\n",
      "WBD_01_HU2_Shape.zip downloaded and unzipped successfully.\n",
      "Downloaded: c:\\Users\\esanttos\\Documents\\Alan temp\\Unit-hydrograph-Model\\data\\shapefiles\\WBD_02_HU2_Shape.zip\n",
      "Extracted files to: c:\\Users\\esanttos\\Documents\\Alan temp\\Unit-hydrograph-Model\\data\\shapefiles\\WBD_02_HU2_Shape\n",
      "WBD_02_HU2_Shape.zip downloaded and unzipped successfully.\n",
      "Downloaded: c:\\Users\\esanttos\\Documents\\Alan temp\\Unit-hydrograph-Model\\data\\shapefiles\\WBD_04_HU2_Shape.zip\n",
      "Extracted files to: c:\\Users\\esanttos\\Documents\\Alan temp\\Unit-hydrograph-Model\\data\\shapefiles\\WBD_04_HU2_Shape\n",
      "WBD_04_HU2_Shape.zip downloaded and unzipped successfully.\n",
      "Downloaded: c:\\Users\\esanttos\\Documents\\Alan temp\\Unit-hydrograph-Model\\data\\shapefiles\\WBD_05_HU2_Shape.zip\n",
      "Extracted files to: c:\\Users\\esanttos\\Documents\\Alan temp\\Unit-hydrograph-Model\\data\\shapefiles\\WBD_05_HU2_Shape\n",
      "WBD_05_HU2_Shape.zip downloaded and unzipped successfully.\n"
     ]
    }
   ],
   "source": [
    "for item in filtered_response:\n",
    "    try:\n",
    "        url = item.get('downloadURL')\n",
    "        \n",
    "        item_base_name = os.path.basename(url)\n",
    "        item_local_path = project_base_path / 'data' / 'shapefiles' / item_base_name\n",
    "\n",
    "        download(url=url, filename=item_local_path, unzip=True)\n",
    "        print(f'{item_base_name} downloaded and unzipped successfully.\\n')\n",
    "\n",
    "    except Exception as err:\n",
    "        print(f'Failed to download or unzip file {item_base_name}: {err}')\n",
    "        next"
   ]
  }
 ],
 "metadata": {
  "kernelspec": {
   "display_name": "venv",
   "language": "python",
   "name": "python3"
  },
  "language_info": {
   "codemirror_mode": {
    "name": "ipython",
    "version": 3
   },
   "file_extension": ".py",
   "mimetype": "text/x-python",
   "name": "python",
   "nbconvert_exporter": "python",
   "pygments_lexer": "ipython3",
   "version": "3.13.1"
  }
 },
 "nbformat": 4,
 "nbformat_minor": 2
}
