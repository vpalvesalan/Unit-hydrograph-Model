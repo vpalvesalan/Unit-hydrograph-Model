{
 "cells": [
  {
   "cell_type": "markdown",
   "metadata": {},
   "source": [
    "# Data Download\n",
    "\n",
    "The purpose of this notebook is to download data from The National Map, using the TNM Rest API. API Documentation [available here](https://tnmaccess.nationalmap.gov/api/v1/docs). A more comphensive dataset documentation is [available here](../../docs/Dataset.md).\n",
    "\n",
    "Data downloaded:\n",
    "- **Watershed Boundary (WBD)**\n",
    "\n"
   ]
  },
  {
   "cell_type": "code",
   "execution_count": 1,
   "metadata": {},
   "outputs": [],
   "source": [
    "# Import necessary modules\n",
    "import requests\n",
    "import pandas as pd\n",
    "from pathlib import Path\n",
    "import json"
   ]
  },
  {
   "cell_type": "code",
   "execution_count": 2,
   "metadata": {},
   "outputs": [],
   "source": [
    "# Base path\n",
    "project_base_path = Path.cwd().parent.parent"
   ]
  },
  {
   "cell_type": "markdown",
   "metadata": {},
   "source": [
    "## Watershed Boundary Dataset (WBD)\n",
    "\n",
    "Let's start by fetching all available Watershed Boundary Dataset and look for the one with resolution that fits the objective of this study."
   ]
  },
  {
   "cell_type": "code",
   "execution_count": 6,
   "metadata": {},
   "outputs": [
    {
     "name": "stdout",
     "output_type": "stream",
     "text": [
      "Available Watershed Boundary Datasets:\n"
     ]
    }
   ],
   "source": [
    "# Load the bbox of the neighboring New York state\n",
    "neighboring_ny_state_bbox_path =  project_base_path / 'data' / 'other' / 'ny_neighboring_bbox.json'\n",
    "with open(neighboring_ny_state_bbox_path, 'r') as f:\n",
    "    neighboring_ny_state_bbox_dict = json.load(f)\n",
    "\n",
    "corners = ['bottom_left', 'bottom_right', 'top_right', 'top_left']\n",
    "pairs = [f\"{neighboring_ny_state_bbox_dict[corner][0]} {neighboring_ny_state_bbox_dict[corner][1]}\" for corner in corners]\n",
    "bbox = \",\".join(pairs)\n",
    "\n",
    "# Define the base URL for the TNM API\n",
    "base_url = \"https://tnmaccess.nationalmap.gov/api/v1/\"\n",
    "\n",
    "# Define parameters for the API request to query available datasets\n",
    "params = {\n",
    "    \"polygon\": bbox, # Sepcify the area to seach for\n",
    "    \"datasets\": \"National Watershed Boundary Dataset WBD\",  # Specify Watershed Boundary Dataset\n",
    "    \"outputFormat\": \"JSON\"  # Specify JSON output\n",
    "}\n",
    "\n",
    "# Send a GET request to the API\n",
    "response = requests.get(base_url + \"products\", params=params)\n",
    "\n",
    "# Check if the request was successful\n",
    "if response.status_code == 200:\n",
    "    # Parse the JSON response\n",
    "    data = response.json()\n",
    "    \n",
    "    # Display the dataset information\n",
    "    print(\"Available Watershed Boundary Datasets:\")\n",
    "    for dataset in data.get(\"items\", []):\n",
    "        print(f\"- Name: {dataset.get('name')}\")\n",
    "        print(f\"  Description: {dataset.get('description')}\")\n",
    "        print(f\"  URL: {dataset.get('metadataUrl')}\\n\")\n",
    "else:\n",
    "    print(f\"Failed to retrieve data. HTTP Status Code: {response.status_code}\")\n"
   ]
  },
  {
   "cell_type": "code",
   "execution_count": 7,
   "metadata": {},
   "outputs": [
    {
     "name": "stdout",
     "output_type": "stream",
     "text": [
      "https://tnmaccess.nationalmap.gov/api/v1/products?polygon=-80.519851+39.719799%2C-69.858861+39.719799%2C-69.858861+45.016658%2C-80.519851+45.016658&datasets=National+Watershed+Boundary+Dataset+WBD&outputFormat=JSON\n"
     ]
    }
   ],
   "source": [
    "print(response.url)"
   ]
  },
  {
   "cell_type": "code",
   "execution_count": 9,
   "metadata": {},
   "outputs": [
    {
     "data": {
      "text/plain": [
       "b'{\"total\": 0, \"items\": [], \"errors\": [], \"messages\": [\"The offset is greater than the total number of results for this query. No items returned.\"], \"sciencebaseQuery\": \"https://www.sciencebase.gov/catalog/items?filter=tagslq%3Dtags.scheme%3A%22The+National+Map+Collection+Thesaurus%22+AND+%28tags.name%3A+%22National+Watershed+Boundary+Dataset+WBD%22%29&filter=spatialQuery%3D%7B%22wkt%22%3A%22POLYGON%28%28-80.519851+39.719799%2C-69.858861+39.719799%2C-69.858861+45.016658%2C-80.519851+45.016658%2C-80.519851+39.719799%29%29%22%2C%22relation%22%3A%22intersects%22%7D&max=50&offset=0&fields=id%2Ctitle%2Csummary%2Cbody%2Ctags%2CwebLinks%2Cdates%2Cspatial%2Cidentifiers&format=json&sort=title&order=asc\", \"filteredOut\": 0}'"
      ]
     },
     "execution_count": 9,
     "metadata": {},
     "output_type": "execute_result"
    }
   ],
   "source": [
    "response.content"
   ]
  },
  {
   "cell_type": "code",
   "execution_count": 4,
   "metadata": {},
   "outputs": [],
   "source": [
    "import dill\n",
    "dill.dump_session('notebook_env_Data dowloand.db')"
   ]
  },
  {
   "cell_type": "code",
   "execution_count": null,
   "metadata": {},
   "outputs": [],
   "source": [
    "import dill\n",
    "dill.load_session('notebook_env_Data dowloand.db')"
   ]
  },
  {
   "cell_type": "code",
   "execution_count": 6,
   "metadata": {},
   "outputs": [],
   "source": [
    "neighboring_ny_state_bbox_path =  project_base_path / 'data' / 'other' / 'ny_neighboring_bbox.json'"
   ]
  },
  {
   "cell_type": "code",
   "execution_count": 7,
   "metadata": {},
   "outputs": [
    {
     "data": {
      "text/plain": [
       "WindowsPath('c:/Users/esanttos/Documents/Alan temp/Unit-hydrograph-Model/notebooks/data/other/ny_neighboring_bbox.json')"
      ]
     },
     "execution_count": 7,
     "metadata": {},
     "output_type": "execute_result"
    }
   ],
   "source": [
    "neighboring_ny_state_bbox_path"
   ]
  },
  {
   "cell_type": "code",
   "execution_count": 10,
   "metadata": {},
   "outputs": [
    {
     "data": {
      "text/plain": [
       "'-80.519851 39.719799,-69.858861 39.719799,-69.858861 45.016658,-80.519851 45.016658'"
      ]
     },
     "execution_count": 10,
     "metadata": {},
     "output_type": "execute_result"
    }
   ],
   "source": [
    "bbox"
   ]
  }
 ],
 "metadata": {
  "kernelspec": {
   "display_name": "venv",
   "language": "python",
   "name": "python3"
  },
  "language_info": {
   "codemirror_mode": {
    "name": "ipython",
    "version": 3
   },
   "file_extension": ".py",
   "mimetype": "text/x-python",
   "name": "python",
   "nbconvert_exporter": "python",
   "pygments_lexer": "ipython3",
   "version": "3.13.1"
  }
 },
 "nbformat": 4,
 "nbformat_minor": 2
}
